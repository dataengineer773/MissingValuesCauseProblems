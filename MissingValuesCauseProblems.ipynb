{
 "cells": [
  {
   "cell_type": "code",
   "execution_count": 1,
   "id": "adc6e977-60b8-42e7-bdfd-da8b3af1593e",
   "metadata": {},
   "outputs": [],
   "source": [
    "# missing values cause errors\n",
    "from numpy import nan\n",
    "from pandas import read_csv\n",
    "from sklearn.discriminant_analysis import LinearDiscriminantAnalysis\n",
    "from sklearn.model_selection import KFold\n",
    "from sklearn.model_selection import cross_val_score"
   ]
  },
  {
   "cell_type": "code",
   "execution_count": 2,
   "id": "37959f82-707b-416d-8d65-057cb51ed065",
   "metadata": {},
   "outputs": [],
   "source": [
    "# load the dataset\n",
    "dataset = read_csv('diabetes.csv', header=None)"
   ]
  },
  {
   "cell_type": "code",
   "execution_count": 3,
   "id": "0a0818cc-c502-4041-9c00-f578b11aee53",
   "metadata": {},
   "outputs": [],
   "source": [
    "# replace '0' values with nan\n",
    "dataset[[1,2,3,4,5]] = dataset[[1,2,3,4,5,]].replace(0, nan)"
   ]
  },
  {
   "cell_type": "code",
   "execution_count": 4,
   "id": "80e5fb01-59b6-44c3-a7c0-2cd3f367a0e4",
   "metadata": {},
   "outputs": [],
   "source": [
    "# split dataset into input and outputs\n",
    "values = dataset.values\n",
    "X = values[:, 0:8]\n",
    "y = values[:, 8]"
   ]
  },
  {
   "cell_type": "code",
   "execution_count": 5,
   "id": "75ef1f64-769b-46f0-b66c-54bf72d843f8",
   "metadata": {},
   "outputs": [],
   "source": [
    "# define the model\n",
    "model = LinearDiscriminantAnalysis()"
   ]
  },
  {
   "cell_type": "code",
   "execution_count": 6,
   "id": "ebdcf872-6119-4783-8a50-6ea59f14049c",
   "metadata": {},
   "outputs": [],
   "source": [
    "# define the model evaluation procedure\n",
    "cv = KFold(n_splits=3, shuffle=True, random_state=1)"
   ]
  },
  {
   "cell_type": "code",
   "execution_count": 7,
   "id": "6abcb9f7-1f5c-4b21-af22-1bc522f1e98b",
   "metadata": {},
   "outputs": [
    {
     "name": "stderr",
     "output_type": "stream",
     "text": [
      "/home/shan/.local/lib/python3.10/site-packages/sklearn/model_selection/_validation.py:839: UserWarning: Scoring failed. The score on this train-test partition for these parameters will be set to nan. Details: \n",
      "Traceback (most recent call last):\n",
      "  File \"/home/shan/.local/lib/python3.10/site-packages/sklearn/metrics/_scorer.py\", line 136, in __call__\n",
      "    score = scorer._score(\n",
      "  File \"/home/shan/.local/lib/python3.10/site-packages/sklearn/metrics/_scorer.py\", line 353, in _score\n",
      "    y_pred = method_caller(estimator, \"predict\", X)\n",
      "  File \"/home/shan/.local/lib/python3.10/site-packages/sklearn/metrics/_scorer.py\", line 86, in _cached_call\n",
      "    result, _ = _get_response_values(\n",
      "  File \"/home/shan/.local/lib/python3.10/site-packages/sklearn/utils/_response.py\", line 194, in _get_response_values\n",
      "    y_pred = prediction_method(X)\n",
      "  File \"/home/shan/.local/lib/python3.10/site-packages/sklearn/linear_model/_base.py\", line 451, in predict\n",
      "    scores = self.decision_function(X)\n",
      "  File \"/home/shan/.local/lib/python3.10/site-packages/sklearn/discriminant_analysis.py\", line 752, in decision_function\n",
      "    return super().decision_function(X)\n",
      "  File \"/home/shan/.local/lib/python3.10/site-packages/sklearn/linear_model/_base.py\", line 432, in decision_function\n",
      "    X = self._validate_data(X, accept_sparse=\"csr\", reset=False)\n",
      "  File \"/home/shan/.local/lib/python3.10/site-packages/sklearn/base.py\", line 605, in _validate_data\n",
      "    out = check_array(X, input_name=\"X\", **check_params)\n",
      "  File \"/home/shan/.local/lib/python3.10/site-packages/sklearn/utils/validation.py\", line 915, in check_array\n",
      "    array = _asarray_with_order(array, order=order, dtype=dtype, xp=xp)\n",
      "  File \"/home/shan/.local/lib/python3.10/site-packages/sklearn/utils/_array_api.py\", line 380, in _asarray_with_order\n",
      "    array = numpy.asarray(array, order=order, dtype=dtype)\n",
      "ValueError: could not convert string to float: 'Pregnancies'\n",
      "\n",
      "  warnings.warn(\n",
      "/home/shan/.local/lib/python3.10/site-packages/sklearn/model_selection/_validation.py:425: FitFailedWarning: \n",
      "2 fits failed out of a total of 3.\n",
      "The score on these train-test partitions for these parameters will be set to nan.\n",
      "If these failures are not expected, you can try to debug them by setting error_score='raise'.\n",
      "\n",
      "Below are more details about the failures:\n",
      "--------------------------------------------------------------------------------\n",
      "2 fits failed with the following error:\n",
      "Traceback (most recent call last):\n",
      "  File \"/home/shan/.local/lib/python3.10/site-packages/sklearn/model_selection/_validation.py\", line 729, in _fit_and_score\n",
      "    estimator.fit(X_train, y_train, **fit_params)\n",
      "  File \"/home/shan/.local/lib/python3.10/site-packages/sklearn/base.py\", line 1152, in wrapper\n",
      "    return fit_method(estimator, *args, **kwargs)\n",
      "  File \"/home/shan/.local/lib/python3.10/site-packages/sklearn/discriminant_analysis.py\", line 581, in fit\n",
      "    X, y = self._validate_data(\n",
      "  File \"/home/shan/.local/lib/python3.10/site-packages/sklearn/base.py\", line 622, in _validate_data\n",
      "    X, y = check_X_y(X, y, **check_params)\n",
      "  File \"/home/shan/.local/lib/python3.10/site-packages/sklearn/utils/validation.py\", line 1146, in check_X_y\n",
      "    X = check_array(\n",
      "  File \"/home/shan/.local/lib/python3.10/site-packages/sklearn/utils/validation.py\", line 915, in check_array\n",
      "    array = _asarray_with_order(array, order=order, dtype=dtype, xp=xp)\n",
      "  File \"/home/shan/.local/lib/python3.10/site-packages/sklearn/utils/_array_api.py\", line 380, in _asarray_with_order\n",
      "    array = numpy.asarray(array, order=order, dtype=dtype)\n",
      "ValueError: could not convert string to float: 'Pregnancies'\n",
      "\n",
      "  warnings.warn(some_fits_failed_message, FitFailedWarning)\n"
     ]
    }
   ],
   "source": [
    "# evaluate the model\n",
    "result = cross_val_score(model, X, y, cv=cv, scoring='accuracy')"
   ]
  },
  {
   "cell_type": "code",
   "execution_count": 8,
   "id": "9b8d34d2-2f50-4a52-a5cc-61a4f404dc37",
   "metadata": {},
   "outputs": [
    {
     "name": "stdout",
     "output_type": "stream",
     "text": [
      "ACCURACY : nan\n"
     ]
    }
   ],
   "source": [
    "# report the mean performance\n",
    "print('ACCURACY : %.3f' % result.mean())"
   ]
  },
  {
   "cell_type": "code",
   "execution_count": null,
   "id": "c35bef85-f239-49e2-896b-1d5ed6b2ac8e",
   "metadata": {},
   "outputs": [],
   "source": []
  }
 ],
 "metadata": {
  "kernelspec": {
   "display_name": "Python 3 (ipykernel)",
   "language": "python",
   "name": "python3"
  },
  "language_info": {
   "codemirror_mode": {
    "name": "ipython",
    "version": 3
   },
   "file_extension": ".py",
   "mimetype": "text/x-python",
   "name": "python",
   "nbconvert_exporter": "python",
   "pygments_lexer": "ipython3",
   "version": "3.10.12"
  }
 },
 "nbformat": 4,
 "nbformat_minor": 5
}
